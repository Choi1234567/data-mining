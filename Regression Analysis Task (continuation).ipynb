{
 "cells": [
  {
   "cell_type": "markdown",
   "id": "2d229dbc",
   "metadata": {},
   "source": [
    "# Cai-XiaoYi task2"
   ]
  },
  {
   "cell_type": "code",
   "execution_count": 1,
   "id": "9776b7da",
   "metadata": {
    "ExecuteTime": {
     "end_time": "2022-12-04T03:49:24.519388Z",
     "start_time": "2022-12-04T03:49:24.293379Z"
    }
   },
   "outputs": [],
   "source": [
    "import pandas as pd\n",
    "import numpy as np"
   ]
  },
  {
   "cell_type": "code",
   "execution_count": 2,
   "id": "34cf26b6",
   "metadata": {
    "ExecuteTime": {
     "end_time": "2022-12-04T03:49:24.935323Z",
     "start_time": "2022-12-04T03:49:24.915418Z"
    }
   },
   "outputs": [],
   "source": [
    "df = pd.read_csv('REGRES.txt', sep='\\s+', names=['air_speed', 'temperature', 'acid_concentration', 'loss_of_ammonia'])"
   ]
  },
  {
   "cell_type": "code",
   "execution_count": 3,
   "id": "ad491ec4",
   "metadata": {
    "ExecuteTime": {
     "end_time": "2022-12-04T03:49:25.464641Z",
     "start_time": "2022-12-04T03:49:25.439311Z"
    }
   },
   "outputs": [
    {
     "data": {
      "text/html": [
       "<div>\n",
       "<style scoped>\n",
       "    .dataframe tbody tr th:only-of-type {\n",
       "        vertical-align: middle;\n",
       "    }\n",
       "\n",
       "    .dataframe tbody tr th {\n",
       "        vertical-align: top;\n",
       "    }\n",
       "\n",
       "    .dataframe thead th {\n",
       "        text-align: right;\n",
       "    }\n",
       "</style>\n",
       "<table border=\"1\" class=\"dataframe\">\n",
       "  <thead>\n",
       "    <tr style=\"text-align: right;\">\n",
       "      <th></th>\n",
       "      <th>air_speed</th>\n",
       "      <th>temperature</th>\n",
       "      <th>acid_concentration</th>\n",
       "      <th>loss_of_ammonia</th>\n",
       "    </tr>\n",
       "  </thead>\n",
       "  <tbody>\n",
       "    <tr>\n",
       "      <th>0</th>\n",
       "      <td>80.0</td>\n",
       "      <td>27.0</td>\n",
       "      <td>89.0</td>\n",
       "      <td>42.0</td>\n",
       "    </tr>\n",
       "    <tr>\n",
       "      <th>1</th>\n",
       "      <td>80.0</td>\n",
       "      <td>27.0</td>\n",
       "      <td>88.0</td>\n",
       "      <td>37.0</td>\n",
       "    </tr>\n",
       "    <tr>\n",
       "      <th>2</th>\n",
       "      <td>75.0</td>\n",
       "      <td>25.0</td>\n",
       "      <td>90.0</td>\n",
       "      <td>37.0</td>\n",
       "    </tr>\n",
       "    <tr>\n",
       "      <th>3</th>\n",
       "      <td>62.0</td>\n",
       "      <td>24.0</td>\n",
       "      <td>87.0</td>\n",
       "      <td>28.0</td>\n",
       "    </tr>\n",
       "    <tr>\n",
       "      <th>4</th>\n",
       "      <td>62.0</td>\n",
       "      <td>22.0</td>\n",
       "      <td>87.0</td>\n",
       "      <td>18.0</td>\n",
       "    </tr>\n",
       "  </tbody>\n",
       "</table>\n",
       "</div>"
      ],
      "text/plain": [
       "   air_speed  temperature  acid_concentration  loss_of_ammonia\n",
       "0       80.0         27.0                89.0             42.0\n",
       "1       80.0         27.0                88.0             37.0\n",
       "2       75.0         25.0                90.0             37.0\n",
       "3       62.0         24.0                87.0             28.0\n",
       "4       62.0         22.0                87.0             18.0"
      ]
     },
     "execution_count": 3,
     "metadata": {},
     "output_type": "execute_result"
    }
   ],
   "source": [
    "df.head()"
   ]
  },
  {
   "cell_type": "code",
   "execution_count": 4,
   "id": "6341a75b",
   "metadata": {
    "ExecuteTime": {
     "end_time": "2022-12-04T03:49:26.145994Z",
     "start_time": "2022-12-04T03:49:26.140119Z"
    }
   },
   "outputs": [],
   "source": [
    "y = df.loss_of_ammonia"
   ]
  },
  {
   "cell_type": "code",
   "execution_count": 5,
   "id": "cf31d9bb",
   "metadata": {
    "ExecuteTime": {
     "end_time": "2022-12-04T03:49:26.580936Z",
     "start_time": "2022-12-04T03:49:26.573523Z"
    }
   },
   "outputs": [],
   "source": [
    "X = df.drop(columns = ['loss_of_ammonia'])"
   ]
  },
  {
   "cell_type": "code",
   "execution_count": 6,
   "id": "8f5e0b71",
   "metadata": {
    "ExecuteTime": {
     "end_time": "2022-12-04T03:49:27.290444Z",
     "start_time": "2022-12-04T03:49:26.893761Z"
    }
   },
   "outputs": [],
   "source": [
    "from sklearn import linear_model"
   ]
  },
  {
   "cell_type": "markdown",
   "id": "5769d58e",
   "metadata": {},
   "source": [
    "## Set the set of regularization factors"
   ]
  },
  {
   "cell_type": "code",
   "execution_count": 7,
   "id": "b60697e7",
   "metadata": {
    "ExecuteTime": {
     "end_time": "2022-12-04T03:49:27.302848Z",
     "start_time": "2022-12-04T03:49:27.299063Z"
    }
   },
   "outputs": [],
   "source": [
    "lasso = linear_model.Lasso()\n",
    "Cs = [0.0001, 0.001, 0.01, 0.1, 1, 10, 20,50]\n",
    "from sklearn.model_selection import train_test_split\n",
    "X_train, X_test, y_train, y_test = train_test_split(\n",
    "    X, y, test_size=0.2, random_state=42)"
   ]
  },
  {
   "cell_type": "code",
   "execution_count": 8,
   "id": "5b53bfd1",
   "metadata": {
    "ExecuteTime": {
     "end_time": "2022-12-04T03:49:27.403044Z",
     "start_time": "2022-12-04T03:49:27.397510Z"
    }
   },
   "outputs": [
    {
     "data": {
      "text/html": [
       "<div>\n",
       "<style scoped>\n",
       "    .dataframe tbody tr th:only-of-type {\n",
       "        vertical-align: middle;\n",
       "    }\n",
       "\n",
       "    .dataframe tbody tr th {\n",
       "        vertical-align: top;\n",
       "    }\n",
       "\n",
       "    .dataframe thead th {\n",
       "        text-align: right;\n",
       "    }\n",
       "</style>\n",
       "<table border=\"1\" class=\"dataframe\">\n",
       "  <thead>\n",
       "    <tr style=\"text-align: right;\">\n",
       "      <th></th>\n",
       "      <th>air_speed</th>\n",
       "      <th>temperature</th>\n",
       "      <th>acid_concentration</th>\n",
       "    </tr>\n",
       "  </thead>\n",
       "  <tbody>\n",
       "    <tr>\n",
       "      <th>0</th>\n",
       "      <td>80.0</td>\n",
       "      <td>27.0</td>\n",
       "      <td>89.0</td>\n",
       "    </tr>\n",
       "    <tr>\n",
       "      <th>17</th>\n",
       "      <td>50.0</td>\n",
       "      <td>19.0</td>\n",
       "      <td>79.0</td>\n",
       "    </tr>\n",
       "    <tr>\n",
       "      <th>15</th>\n",
       "      <td>50.0</td>\n",
       "      <td>18.0</td>\n",
       "      <td>86.0</td>\n",
       "    </tr>\n",
       "    <tr>\n",
       "      <th>1</th>\n",
       "      <td>80.0</td>\n",
       "      <td>27.0</td>\n",
       "      <td>88.0</td>\n",
       "    </tr>\n",
       "    <tr>\n",
       "      <th>8</th>\n",
       "      <td>58.0</td>\n",
       "      <td>23.0</td>\n",
       "      <td>87.0</td>\n",
       "    </tr>\n",
       "  </tbody>\n",
       "</table>\n",
       "</div>"
      ],
      "text/plain": [
       "    air_speed  temperature  acid_concentration\n",
       "0        80.0         27.0                89.0\n",
       "17       50.0         19.0                79.0\n",
       "15       50.0         18.0                86.0\n",
       "1        80.0         27.0                88.0\n",
       "8        58.0         23.0                87.0"
      ]
     },
     "execution_count": 8,
     "metadata": {},
     "output_type": "execute_result"
    }
   ],
   "source": [
    "X_test"
   ]
  },
  {
   "cell_type": "markdown",
   "id": "4330a320",
   "metadata": {},
   "source": [
    "## Build lasso model"
   ]
  },
  {
   "cell_type": "code",
   "execution_count": 9,
   "id": "c0534375",
   "metadata": {
    "ExecuteTime": {
     "end_time": "2022-12-04T03:49:28.121310Z",
     "start_time": "2022-12-04T03:49:27.752665Z"
    }
   },
   "outputs": [],
   "source": [
    "from sklearn.metrics import mean_squared_error\n",
    "import matplotlib.pyplot as plt"
   ]
  },
  {
   "cell_type": "markdown",
   "id": "977750de",
   "metadata": {},
   "source": [
    "## trainloss and testloss are close, so that the alpha is best. The proof of no overfitting allows the model to achieve good generalisation and more robustness."
   ]
  },
  {
   "cell_type": "code",
   "execution_count": 10,
   "id": "c98482b9",
   "metadata": {
    "ExecuteTime": {
     "end_time": "2022-12-04T03:49:28.246910Z",
     "start_time": "2022-12-04T03:49:28.133411Z"
    }
   },
   "outputs": [
    {
     "data": {
      "image/png": "[encoded data removed]",
      "text/plain": [
       "<Figure size 432x288 with 1 Axes>"
      ]
     },
     "metadata": {
      "needs_background": "light"
     },
     "output_type": "display_data"
    }
   ],
   "source": [
    "train_loss = []\n",
    "test_loss = []\n",
    "for i in Cs:\n",
    "    lasso = linear_model.Lasso(alpha=i)\n",
    "    lasso.fit(X_train, y_train)\n",
    "    y_pred = lasso.predict(X_test)\n",
    "    train_pred = lasso.predict(X_train)\n",
    "\n",
    "    mse_train= mean_squared_error(y_train, train_pred)\n",
    "    mse_test= mean_squared_error(y_test, y_pred)\n",
    "    test_loss.append(mse_test)\n",
    "    train_loss.append(mse_train)\n",
    "        \n",
    "\n",
    "plt.style.use('fivethirtyeight')\n",
    "plt.plot(Cs,train_loss, label = 'train_loss')\n",
    "plt.plot(Cs,test_loss, label = 'test_loss')\n",
    "plt.legend()\n",
    "plt.xlabel('alpha')\n",
    "plt.ylabel('loss')\n",
    "plt.show()"
   ]
  },
  {
   "cell_type": "markdown",
   "id": "048cf702",
   "metadata": {},
   "source": [
    "## Selecting the appropriate regularised fraction。Note the overly high regularisation factor, lasso will regularise all coefficients of the independent variables to zero."
   ]
  },
  {
   "cell_type": "code",
   "execution_count": 11,
   "id": "f606b667",
   "metadata": {
    "ExecuteTime": {
     "end_time": "2022-12-04T03:49:28.428283Z",
     "start_time": "2022-12-04T03:49:28.424778Z"
    }
   },
   "outputs": [],
   "source": [
    "lasso = linear_model.Lasso(alpha=3)\n",
    "lasso.fit(X_train, y_train)\n",
    "\n",
    "y_pred = lasso.predict(X_test)"
   ]
  },
  {
   "cell_type": "markdown",
   "id": "88f6a7bd",
   "metadata": {},
   "source": [
    "## Building the ridge model"
   ]
  },
  {
   "cell_type": "code",
   "execution_count": 12,
   "id": "70c7d648",
   "metadata": {
    "ExecuteTime": {
     "end_time": "2022-12-04T03:49:28.817873Z",
     "start_time": "2022-12-04T03:49:28.810163Z"
    }
   },
   "outputs": [],
   "source": [
    "Cvs = [1, 10, 20, 50, 60, 65, 68, 69, 70]"
   ]
  },
  {
   "cell_type": "code",
   "execution_count": 13,
   "id": "5684794a",
   "metadata": {
    "ExecuteTime": {
     "end_time": "2022-12-04T03:49:29.017799Z",
     "start_time": "2022-12-04T03:49:28.981223Z"
    }
   },
   "outputs": [],
   "source": [
    "from sklearn.linear_model import Ridge\n",
    "train_loss = []\n",
    "test_loss = []\n",
    "for i in Cvs:\n",
    "    ridge = linear_model.Ridge(alpha=i)\n",
    "    ridge.fit(X_train, y_train)\n",
    "    y_pred = ridge.predict(X_test)\n",
    "    train_pred = ridge.predict(X_train)\n",
    "\n",
    "    mse_train= mean_squared_error(y_train, train_pred)\n",
    "    mse_test= mean_squared_error(y_test, y_pred)\n",
    "    test_loss.append(mse_test)\n",
    "    train_loss.append(mse_train)"
   ]
  },
  {
   "cell_type": "markdown",
   "id": "20070f14",
   "metadata": {},
   "source": [
    "## We can see that testloss and trainloss are getting closer and closer, which is the effect of regularisation."
   ]
  },
  {
   "cell_type": "code",
   "execution_count": 14,
   "id": "4deb1cec",
   "metadata": {
    "ExecuteTime": {
     "end_time": "2022-12-04T03:49:29.360693Z",
     "start_time": "2022-12-04T03:49:29.290582Z"
    }
   },
   "outputs": [
    {
     "data": {
      "image/png": "[encoded data removed]",
      "text/plain": [
       "<Figure size 432x288 with 1 Axes>"
      ]
     },
     "metadata": {},
     "output_type": "display_data"
    }
   ],
   "source": [
    "plt.style.use('ggplot')\n",
    "plt.plot(Cvs,train_loss, label = 'train_loss')\n",
    "plt.plot(Cvs,test_loss, label = 'test_loss')\n",
    "plt.legend()\n",
    "plt.xlabel('alpha')\n",
    "plt.ylabel('loss')\n",
    "plt.show()"
   ]
  },
  {
   "cell_type": "code",
   "execution_count": 15,
   "id": "a9ade7d2",
   "metadata": {
    "ExecuteTime": {
     "end_time": "2022-12-04T03:49:29.492464Z",
     "start_time": "2022-12-04T03:49:29.489374Z"
    }
   },
   "outputs": [],
   "source": [
    "ridge = linear_model.Ridge(alpha=68)\n",
    "ridge.fit(X_train, y_train)\n",
    "y_pred = ridge.predict(X_test)"
   ]
  },
  {
   "cell_type": "code",
   "execution_count": 16,
   "id": "2044d3db",
   "metadata": {
    "ExecuteTime": {
     "end_time": "2022-12-04T03:49:29.684139Z",
     "start_time": "2022-12-04T03:49:29.682367Z"
    }
   },
   "outputs": [],
   "source": [
    "ridge_coef = ridge.coef_"
   ]
  },
  {
   "cell_type": "code",
   "execution_count": 17,
   "id": "3e018efd",
   "metadata": {
    "ExecuteTime": {
     "end_time": "2022-12-04T03:49:30.089524Z",
     "start_time": "2022-12-04T03:49:30.080421Z"
    }
   },
   "outputs": [
    {
     "data": {
      "text/plain": [
       "array([ 0.67988607,  0.77734788, -0.04436864])"
      ]
     },
     "execution_count": 17,
     "metadata": {},
     "output_type": "execute_result"
    }
   ],
   "source": [
    "ridge_coef"
   ]
  },
  {
   "cell_type": "code",
   "execution_count": 18,
   "id": "51b5a0f0",
   "metadata": {
    "ExecuteTime": {
     "end_time": "2022-12-04T03:49:30.273207Z",
     "start_time": "2022-12-04T03:49:30.267843Z"
    }
   },
   "outputs": [],
   "source": [
    "ridge_intercept = ridge.intercept_"
   ]
  },
  {
   "cell_type": "code",
   "execution_count": 19,
   "id": "6fa1ce34",
   "metadata": {
    "ExecuteTime": {
     "end_time": "2022-12-04T03:49:33.523965Z",
     "start_time": "2022-12-04T03:49:33.516410Z"
    }
   },
   "outputs": [
    {
     "data": {
      "text/plain": [
       "-36.37232933450913"
      ]
     },
     "execution_count": 19,
     "metadata": {},
     "output_type": "execute_result"
    }
   ],
   "source": [
    "ridge_intercept"
   ]
  },
  {
   "cell_type": "code",
   "execution_count": 30,
   "id": "5913106b",
   "metadata": {
    "ExecuteTime": {
     "end_time": "2022-12-04T03:54:49.740690Z",
     "start_time": "2022-12-04T03:54:49.734301Z"
    }
   },
   "outputs": [
    {
     "name": "stdout",
     "output_type": "stream",
     "text": [
      "Day 4 loss_of_ammonia = 20.576884030768568\n"
     ]
    }
   ],
   "source": [
    "pred_loss = 0\n",
    "for i,j  in zip(ridge_coef, X.iloc[3]):\n",
    "    pred_loss += i*j\n",
    "     \n",
    "pred_loss += ridge_intercept\n",
    "print('Day 4 loss_of_ammonia =',pred_loss )"
   ]
  },
  {
   "cell_type": "markdown",
   "id": "caedf081",
   "metadata": {},
   "source": [
    "$$0.67988607 * air_speed + 0.77734788* temperature -0.04436864* acid_concentration -36.37232933450913=loss_of_ammonia$$"
   ]
  },
  {
   "cell_type": "markdown",
   "id": "b7ddb067",
   "metadata": {},
   "source": [
    "$$0.67988607 * 62.0 + 0.77734788* 24.0 -0.04436864* 87.0 -36.37232933450913=loss_of_ammonia$$"
   ]
  },
  {
   "cell_type": "markdown",
   "id": "d4142bb3",
   "metadata": {},
   "source": [
    "## We did a point estimate for day 4 by coefficients based on the day 4 independent variable data"
   ]
  },
  {
   "cell_type": "code",
   "execution_count": 32,
   "id": "f4671fff",
   "metadata": {
    "ExecuteTime": {
     "end_time": "2022-12-04T03:55:50.486187Z",
     "start_time": "2022-12-04T03:55:50.480158Z"
    }
   },
   "outputs": [],
   "source": [
    "lasso_coef = lasso.coef_"
   ]
  },
  {
   "cell_type": "markdown",
   "id": "d089b95d",
   "metadata": {},
   "source": [
    "## As can be seen from the previous task analysis, the third variable is not highly correlated with the other two independent and dependent variables, so it is discarded when the regularisation is done.If the regularization factor continues to be adjusted upwards, the coefficient of the second, more weakly correlated variable will also become zero\n"
   ]
  },
  {
   "cell_type": "code",
   "execution_count": 33,
   "id": "365ab163",
   "metadata": {
    "ExecuteTime": {
     "end_time": "2022-12-04T03:55:51.477118Z",
     "start_time": "2022-12-04T03:55:51.467067Z"
    }
   },
   "outputs": [
    {
     "data": {
      "text/plain": [
       "array([ 0.63837203,  0.84845016, -0.        ])"
      ]
     },
     "execution_count": 33,
     "metadata": {},
     "output_type": "execute_result"
    }
   ],
   "source": [
    "lasso_coef"
   ]
  },
  {
   "cell_type": "code",
   "execution_count": 34,
   "id": "bd02d4f5",
   "metadata": {
    "ExecuteTime": {
     "end_time": "2022-12-04T03:55:52.002839Z",
     "start_time": "2022-12-04T03:55:51.996362Z"
    }
   },
   "outputs": [],
   "source": [
    "lasso_intercept = lasso.intercept_"
   ]
  },
  {
   "cell_type": "code",
   "execution_count": 35,
   "id": "8213d87f",
   "metadata": {
    "ExecuteTime": {
     "end_time": "2022-12-04T03:55:52.614207Z",
     "start_time": "2022-12-04T03:55:52.608547Z"
    }
   },
   "outputs": [
    {
     "data": {
      "text/plain": [
       "-39.2019937529634"
      ]
     },
     "execution_count": 35,
     "metadata": {},
     "output_type": "execute_result"
    }
   ],
   "source": [
    "lasso_intercept"
   ]
  },
  {
   "cell_type": "code",
   "execution_count": 36,
   "id": "fd60923d",
   "metadata": {
    "ExecuteTime": {
     "end_time": "2022-12-04T03:55:53.440077Z",
     "start_time": "2022-12-04T03:55:53.430833Z"
    }
   },
   "outputs": [
    {
     "name": "stdout",
     "output_type": "stream",
     "text": [
      "Day 4 loss_of_ammonia = 20.73987575451747\n"
     ]
    }
   ],
   "source": [
    "pred_loss = 0\n",
    "for i,j  in zip(lasso_coef, X.iloc[3]):\n",
    "    pred_loss += i*j\n",
    "     \n",
    "pred_loss += lasso_intercept\n",
    "print('Day 4 loss_of_ammonia =',pred_loss )"
   ]
  },
  {
   "cell_type": "markdown",
   "id": "76e05aa2",
   "metadata": {},
   "source": [
    "**Thank you for taking the time to read my reports, although they are not perfect. If you would like, please let me know what is lacking and I will improve them.**"
   ]
  },
  {
   "cell_type": "code",
   "execution_count": null,
   "id": "047e0ddc",
   "metadata": {},
   "outputs": [],
   "source": []
  }
 ],
 "metadata": {
  "kernelspec": {
   "display_name": "Python [conda env:tensorflow] *",
   "language": "python",
   "name": "conda-env-tensorflow-py"
  },
  "language_info": {
   "codemirror_mode": {
    "name": "ipython",
    "version": 3
   },
   "file_extension": ".py",
   "mimetype": "text/x-python",
   "name": "python",
   "nbconvert_exporter": "python",
   "pygments_lexer": "ipython3",
   "version": "3.8.13"
  },
  "varInspector": {
   "cols": {
    "lenName": 16,
    "lenType": 16,
    "lenVar": 40
   },
   "kernels_config": {
    "python": {
     "delete_cmd_postfix": "",
     "delete_cmd_prefix": "del ",
     "library": "var_list.py",
     "varRefreshCmd": "print(var_dic_list())"
    },
    "r": {
     "delete_cmd_postfix": ") ",
     "delete_cmd_prefix": "rm(",
     "library": "var_list.r",
     "varRefreshCmd": "cat(var_dic_list()) "
    }
   },
   "types_to_exclude": [
    "module",
    "function",
    "builtin_function_or_method",
    "instance",
    "_Feature"
   ],
   "window_display": false
  }
 },
 "nbformat": 4,
 "nbformat_minor": 5
}
