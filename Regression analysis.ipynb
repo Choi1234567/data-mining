{
 "cells": [
  {
   "cell_type": "markdown",
   "id": "03e4299b",
   "metadata": {},
   "source": [
    "# Cai XiaoYi-task1"
   ]
  },
  {
   "cell_type": "code",
   "execution_count": 66,
   "id": "47623ca8",
   "metadata": {
    "ExecuteTime": {
     "end_time": "2022-12-02T18:33:47.779273Z",
     "start_time": "2022-12-02T18:33:47.771579Z"
    }
   },
   "outputs": [],
   "source": [
    "import pandas as pd\n",
    "import numpy as np"
   ]
  },
  {
   "cell_type": "code",
   "execution_count": 67,
   "id": "9877935c",
   "metadata": {
    "ExecuteTime": {
     "end_time": "2022-12-02T18:33:48.466669Z",
     "start_time": "2022-12-02T18:33:48.435044Z"
    }
   },
   "outputs": [],
   "source": [
    "df = pd.read_csv('REGRES.txt', sep='\\s+', names=['air_speed', 'temperature', 'acid_concentration', 'loss_of_ammonia'])\n",
    "#citys=pd.read_table('./1.txt',sep='\\t',header=None)"
   ]
  },
  {
   "cell_type": "code",
   "execution_count": 68,
   "id": "a3c09397",
   "metadata": {
    "ExecuteTime": {
     "end_time": "2022-12-02T18:33:48.971062Z",
     "start_time": "2022-12-02T18:33:48.966385Z"
    }
   },
   "outputs": [],
   "source": [
    "dependent = df.loss_of_ammonia"
   ]
  },
  {
   "cell_type": "code",
   "execution_count": 69,
   "id": "884fc418",
   "metadata": {
    "ExecuteTime": {
     "end_time": "2022-12-02T18:33:50.155641Z",
     "start_time": "2022-12-02T18:33:50.148200Z"
    }
   },
   "outputs": [],
   "source": [
    "independent = df.drop(columns = ['loss_of_ammonia'])"
   ]
  },
  {
   "cell_type": "code",
   "execution_count": 70,
   "id": "3d46f637",
   "metadata": {
    "ExecuteTime": {
     "end_time": "2022-12-02T18:33:50.608257Z",
     "start_time": "2022-12-02T18:33:50.591370Z"
    }
   },
   "outputs": [
    {
     "data": {
      "text/html": [
       "<div>\n",
       "<style scoped>\n",
       "    .dataframe tbody tr th:only-of-type {\n",
       "        vertical-align: middle;\n",
       "    }\n",
       "\n",
       "    .dataframe tbody tr th {\n",
       "        vertical-align: top;\n",
       "    }\n",
       "\n",
       "    .dataframe thead th {\n",
       "        text-align: right;\n",
       "    }\n",
       "</style>\n",
       "<table border=\"1\" class=\"dataframe\">\n",
       "  <thead>\n",
       "    <tr style=\"text-align: right;\">\n",
       "      <th></th>\n",
       "      <th>air_speed</th>\n",
       "      <th>temperature</th>\n",
       "      <th>acid_concentration</th>\n",
       "    </tr>\n",
       "  </thead>\n",
       "  <tbody>\n",
       "    <tr>\n",
       "      <th>air_speed</th>\n",
       "      <td>1.000000</td>\n",
       "      <td>0.781852</td>\n",
       "      <td>0.500143</td>\n",
       "    </tr>\n",
       "    <tr>\n",
       "      <th>temperature</th>\n",
       "      <td>0.781852</td>\n",
       "      <td>1.000000</td>\n",
       "      <td>0.390940</td>\n",
       "    </tr>\n",
       "    <tr>\n",
       "      <th>acid_concentration</th>\n",
       "      <td>0.500143</td>\n",
       "      <td>0.390940</td>\n",
       "      <td>1.000000</td>\n",
       "    </tr>\n",
       "  </tbody>\n",
       "</table>\n",
       "</div>"
      ],
      "text/plain": [
       "                    air_speed  temperature  acid_concentration\n",
       "air_speed            1.000000     0.781852            0.500143\n",
       "temperature          0.781852     1.000000            0.390940\n",
       "acid_concentration   0.500143     0.390940            1.000000"
      ]
     },
     "execution_count": 70,
     "metadata": {},
     "output_type": "execute_result"
    }
   ],
   "source": [
    "independent.corr(method = 'pearson')"
   ]
  },
  {
   "cell_type": "code",
   "execution_count": 71,
   "id": "eb3843a6",
   "metadata": {
    "ExecuteTime": {
     "end_time": "2022-12-02T18:33:51.319807Z",
     "start_time": "2022-12-02T18:33:51.298817Z"
    }
   },
   "outputs": [
    {
     "data": {
      "text/html": [
       "<div>\n",
       "<style scoped>\n",
       "    .dataframe tbody tr th:only-of-type {\n",
       "        vertical-align: middle;\n",
       "    }\n",
       "\n",
       "    .dataframe tbody tr th {\n",
       "        vertical-align: top;\n",
       "    }\n",
       "\n",
       "    .dataframe thead th {\n",
       "        text-align: right;\n",
       "    }\n",
       "</style>\n",
       "<table border=\"1\" class=\"dataframe\">\n",
       "  <thead>\n",
       "    <tr style=\"text-align: right;\">\n",
       "      <th></th>\n",
       "      <th>air_speed</th>\n",
       "      <th>temperature</th>\n",
       "      <th>acid_concentration</th>\n",
       "    </tr>\n",
       "  </thead>\n",
       "  <tbody>\n",
       "    <tr>\n",
       "      <th>air_speed</th>\n",
       "      <td>1.000000</td>\n",
       "      <td>0.595550</td>\n",
       "      <td>0.450595</td>\n",
       "    </tr>\n",
       "    <tr>\n",
       "      <th>temperature</th>\n",
       "      <td>0.595550</td>\n",
       "      <td>1.000000</td>\n",
       "      <td>0.265657</td>\n",
       "    </tr>\n",
       "    <tr>\n",
       "      <th>acid_concentration</th>\n",
       "      <td>0.450595</td>\n",
       "      <td>0.265657</td>\n",
       "      <td>1.000000</td>\n",
       "    </tr>\n",
       "  </tbody>\n",
       "</table>\n",
       "</div>"
      ],
      "text/plain": [
       "                    air_speed  temperature  acid_concentration\n",
       "air_speed            1.000000     0.595550            0.450595\n",
       "temperature          0.595550     1.000000            0.265657\n",
       "acid_concentration   0.450595     0.265657            1.000000"
      ]
     },
     "execution_count": 71,
     "metadata": {},
     "output_type": "execute_result"
    }
   ],
   "source": [
    "independent.corr(method = 'kendall')"
   ]
  },
  {
   "cell_type": "code",
   "execution_count": 72,
   "id": "ea1b0ba6",
   "metadata": {
    "ExecuteTime": {
     "end_time": "2022-12-02T18:33:52.168091Z",
     "start_time": "2022-12-02T18:33:52.154522Z"
    }
   },
   "outputs": [
    {
     "data": {
      "text/html": [
       "<div>\n",
       "<style scoped>\n",
       "    .dataframe tbody tr th:only-of-type {\n",
       "        vertical-align: middle;\n",
       "    }\n",
       "\n",
       "    .dataframe tbody tr th {\n",
       "        vertical-align: top;\n",
       "    }\n",
       "\n",
       "    .dataframe thead th {\n",
       "        text-align: right;\n",
       "    }\n",
       "</style>\n",
       "<table border=\"1\" class=\"dataframe\">\n",
       "  <thead>\n",
       "    <tr style=\"text-align: right;\">\n",
       "      <th></th>\n",
       "      <th>air_speed</th>\n",
       "      <th>temperature</th>\n",
       "      <th>acid_concentration</th>\n",
       "      <th>loss_of_ammonia</th>\n",
       "    </tr>\n",
       "  </thead>\n",
       "  <tbody>\n",
       "    <tr>\n",
       "      <th>air_speed</th>\n",
       "      <td>1.000000</td>\n",
       "      <td>0.781852</td>\n",
       "      <td>0.500143</td>\n",
       "      <td>0.919663</td>\n",
       "    </tr>\n",
       "    <tr>\n",
       "      <th>temperature</th>\n",
       "      <td>0.781852</td>\n",
       "      <td>1.000000</td>\n",
       "      <td>0.390940</td>\n",
       "      <td>0.875504</td>\n",
       "    </tr>\n",
       "    <tr>\n",
       "      <th>acid_concentration</th>\n",
       "      <td>0.500143</td>\n",
       "      <td>0.390940</td>\n",
       "      <td>1.000000</td>\n",
       "      <td>0.399830</td>\n",
       "    </tr>\n",
       "    <tr>\n",
       "      <th>loss_of_ammonia</th>\n",
       "      <td>0.919663</td>\n",
       "      <td>0.875504</td>\n",
       "      <td>0.399830</td>\n",
       "      <td>1.000000</td>\n",
       "    </tr>\n",
       "  </tbody>\n",
       "</table>\n",
       "</div>"
      ],
      "text/plain": [
       "                    air_speed  temperature  acid_concentration  \\\n",
       "air_speed            1.000000     0.781852            0.500143   \n",
       "temperature          0.781852     1.000000            0.390940   \n",
       "acid_concentration   0.500143     0.390940            1.000000   \n",
       "loss_of_ammonia      0.919663     0.875504            0.399830   \n",
       "\n",
       "                    loss_of_ammonia  \n",
       "air_speed                  0.919663  \n",
       "temperature                0.875504  \n",
       "acid_concentration         0.399830  \n",
       "loss_of_ammonia            1.000000  "
      ]
     },
     "execution_count": 72,
     "metadata": {},
     "output_type": "execute_result"
    }
   ],
   "source": [
    "df.corr(method = 'pearson')"
   ]
  },
  {
   "cell_type": "code",
   "execution_count": 73,
   "id": "68f29707",
   "metadata": {
    "ExecuteTime": {
     "end_time": "2022-12-02T18:33:53.050942Z",
     "start_time": "2022-12-02T18:33:53.026796Z"
    }
   },
   "outputs": [
    {
     "data": {
      "text/html": [
       "<div>\n",
       "<style scoped>\n",
       "    .dataframe tbody tr th:only-of-type {\n",
       "        vertical-align: middle;\n",
       "    }\n",
       "\n",
       "    .dataframe tbody tr th {\n",
       "        vertical-align: top;\n",
       "    }\n",
       "\n",
       "    .dataframe thead th {\n",
       "        text-align: right;\n",
       "    }\n",
       "</style>\n",
       "<table border=\"1\" class=\"dataframe\">\n",
       "  <thead>\n",
       "    <tr style=\"text-align: right;\">\n",
       "      <th></th>\n",
       "      <th>air_speed</th>\n",
       "      <th>temperature</th>\n",
       "      <th>acid_concentration</th>\n",
       "      <th>loss_of_ammonia</th>\n",
       "    </tr>\n",
       "  </thead>\n",
       "  <tbody>\n",
       "    <tr>\n",
       "      <th>air_speed</th>\n",
       "      <td>1.000000</td>\n",
       "      <td>0.595550</td>\n",
       "      <td>0.450595</td>\n",
       "      <td>0.802082</td>\n",
       "    </tr>\n",
       "    <tr>\n",
       "      <th>temperature</th>\n",
       "      <td>0.595550</td>\n",
       "      <td>1.000000</td>\n",
       "      <td>0.265657</td>\n",
       "      <td>0.733681</td>\n",
       "    </tr>\n",
       "    <tr>\n",
       "      <th>acid_concentration</th>\n",
       "      <td>0.450595</td>\n",
       "      <td>0.265657</td>\n",
       "      <td>1.000000</td>\n",
       "      <td>0.378831</td>\n",
       "    </tr>\n",
       "    <tr>\n",
       "      <th>loss_of_ammonia</th>\n",
       "      <td>0.802082</td>\n",
       "      <td>0.733681</td>\n",
       "      <td>0.378831</td>\n",
       "      <td>1.000000</td>\n",
       "    </tr>\n",
       "  </tbody>\n",
       "</table>\n",
       "</div>"
      ],
      "text/plain": [
       "                    air_speed  temperature  acid_concentration  \\\n",
       "air_speed            1.000000     0.595550            0.450595   \n",
       "temperature          0.595550     1.000000            0.265657   \n",
       "acid_concentration   0.450595     0.265657            1.000000   \n",
       "loss_of_ammonia      0.802082     0.733681            0.378831   \n",
       "\n",
       "                    loss_of_ammonia  \n",
       "air_speed                  0.802082  \n",
       "temperature                0.733681  \n",
       "acid_concentration         0.378831  \n",
       "loss_of_ammonia            1.000000  "
      ]
     },
     "execution_count": 73,
     "metadata": {},
     "output_type": "execute_result"
    }
   ],
   "source": [
    "df.corr(method = 'kendall')"
   ]
  },
  {
   "cell_type": "code",
   "execution_count": 74,
   "id": "93dbd859",
   "metadata": {
    "ExecuteTime": {
     "end_time": "2022-12-02T18:33:54.204447Z",
     "start_time": "2022-12-02T18:33:54.197013Z"
    }
   },
   "outputs": [],
   "source": [
    "from patsy import dmatrices"
   ]
  },
  {
   "cell_type": "code",
   "execution_count": 75,
   "id": "22f787a7",
   "metadata": {
    "ExecuteTime": {
     "end_time": "2022-12-02T18:33:54.948793Z",
     "start_time": "2022-12-02T18:33:54.943075Z"
    }
   },
   "outputs": [],
   "source": [
    "from sklearn import linear_model\n",
    "import statsmodels.api as sm"
   ]
  },
  {
   "cell_type": "code",
   "execution_count": 76,
   "id": "09438f11",
   "metadata": {
    "ExecuteTime": {
     "end_time": "2022-12-02T18:33:55.642519Z",
     "start_time": "2022-12-02T18:33:55.620711Z"
    }
   },
   "outputs": [],
   "source": [
    "y, X = dmatrices('loss_of_ammonia ~ air_speed + temperature + acid_concentration', data=df, return_type='dataframe')"
   ]
  },
  {
   "cell_type": "code",
   "execution_count": 77,
   "id": "0ad57809",
   "metadata": {
    "ExecuteTime": {
     "end_time": "2022-12-02T18:33:58.046356Z",
     "start_time": "2022-12-02T18:33:58.034982Z"
    }
   },
   "outputs": [
    {
     "data": {
      "text/html": [
       "<div>\n",
       "<style scoped>\n",
       "    .dataframe tbody tr th:only-of-type {\n",
       "        vertical-align: middle;\n",
       "    }\n",
       "\n",
       "    .dataframe tbody tr th {\n",
       "        vertical-align: top;\n",
       "    }\n",
       "\n",
       "    .dataframe thead th {\n",
       "        text-align: right;\n",
       "    }\n",
       "</style>\n",
       "<table border=\"1\" class=\"dataframe\">\n",
       "  <thead>\n",
       "    <tr style=\"text-align: right;\">\n",
       "      <th></th>\n",
       "      <th>loss_of_ammonia</th>\n",
       "    </tr>\n",
       "  </thead>\n",
       "  <tbody>\n",
       "    <tr>\n",
       "      <th>0</th>\n",
       "      <td>42.0</td>\n",
       "    </tr>\n",
       "    <tr>\n",
       "      <th>1</th>\n",
       "      <td>37.0</td>\n",
       "    </tr>\n",
       "    <tr>\n",
       "      <th>2</th>\n",
       "      <td>37.0</td>\n",
       "    </tr>\n",
       "    <tr>\n",
       "      <th>3</th>\n",
       "      <td>28.0</td>\n",
       "    </tr>\n",
       "    <tr>\n",
       "      <th>4</th>\n",
       "      <td>18.0</td>\n",
       "    </tr>\n",
       "  </tbody>\n",
       "</table>\n",
       "</div>"
      ],
      "text/plain": [
       "   loss_of_ammonia\n",
       "0             42.0\n",
       "1             37.0\n",
       "2             37.0\n",
       "3             28.0\n",
       "4             18.0"
      ]
     },
     "execution_count": 77,
     "metadata": {},
     "output_type": "execute_result"
    }
   ],
   "source": [
    "y.head()"
   ]
  },
  {
   "cell_type": "code",
   "execution_count": 78,
   "id": "cef58454",
   "metadata": {
    "ExecuteTime": {
     "end_time": "2022-12-02T18:33:58.759332Z",
     "start_time": "2022-12-02T18:33:58.743037Z"
    }
   },
   "outputs": [
    {
     "data": {
      "text/html": [
       "<div>\n",
       "<style scoped>\n",
       "    .dataframe tbody tr th:only-of-type {\n",
       "        vertical-align: middle;\n",
       "    }\n",
       "\n",
       "    .dataframe tbody tr th {\n",
       "        vertical-align: top;\n",
       "    }\n",
       "\n",
       "    .dataframe thead th {\n",
       "        text-align: right;\n",
       "    }\n",
       "</style>\n",
       "<table border=\"1\" class=\"dataframe\">\n",
       "  <thead>\n",
       "    <tr style=\"text-align: right;\">\n",
       "      <th></th>\n",
       "      <th>Intercept</th>\n",
       "      <th>air_speed</th>\n",
       "      <th>temperature</th>\n",
       "      <th>acid_concentration</th>\n",
       "    </tr>\n",
       "  </thead>\n",
       "  <tbody>\n",
       "    <tr>\n",
       "      <th>0</th>\n",
       "      <td>1.0</td>\n",
       "      <td>80.0</td>\n",
       "      <td>27.0</td>\n",
       "      <td>89.0</td>\n",
       "    </tr>\n",
       "    <tr>\n",
       "      <th>1</th>\n",
       "      <td>1.0</td>\n",
       "      <td>80.0</td>\n",
       "      <td>27.0</td>\n",
       "      <td>88.0</td>\n",
       "    </tr>\n",
       "    <tr>\n",
       "      <th>2</th>\n",
       "      <td>1.0</td>\n",
       "      <td>75.0</td>\n",
       "      <td>25.0</td>\n",
       "      <td>90.0</td>\n",
       "    </tr>\n",
       "    <tr>\n",
       "      <th>3</th>\n",
       "      <td>1.0</td>\n",
       "      <td>62.0</td>\n",
       "      <td>24.0</td>\n",
       "      <td>87.0</td>\n",
       "    </tr>\n",
       "    <tr>\n",
       "      <th>4</th>\n",
       "      <td>1.0</td>\n",
       "      <td>62.0</td>\n",
       "      <td>22.0</td>\n",
       "      <td>87.0</td>\n",
       "    </tr>\n",
       "  </tbody>\n",
       "</table>\n",
       "</div>"
      ],
      "text/plain": [
       "   Intercept  air_speed  temperature  acid_concentration\n",
       "0        1.0       80.0         27.0                89.0\n",
       "1        1.0       80.0         27.0                88.0\n",
       "2        1.0       75.0         25.0                90.0\n",
       "3        1.0       62.0         24.0                87.0\n",
       "4        1.0       62.0         22.0                87.0"
      ]
     },
     "execution_count": 78,
     "metadata": {},
     "output_type": "execute_result"
    }
   ],
   "source": [
    "X.head()"
   ]
  },
  {
   "cell_type": "code",
   "execution_count": 79,
   "id": "6d0e873f",
   "metadata": {
    "ExecuteTime": {
     "end_time": "2022-12-02T18:33:59.659892Z",
     "start_time": "2022-12-02T18:33:59.638373Z"
    }
   },
   "outputs": [
    {
     "data": {
      "text/html": [
       "<div>\n",
       "<style scoped>\n",
       "    .dataframe tbody tr th:only-of-type {\n",
       "        vertical-align: middle;\n",
       "    }\n",
       "\n",
       "    .dataframe tbody tr th {\n",
       "        vertical-align: top;\n",
       "    }\n",
       "\n",
       "    .dataframe thead th {\n",
       "        text-align: right;\n",
       "    }\n",
       "</style>\n",
       "<table border=\"1\" class=\"dataframe\">\n",
       "  <thead>\n",
       "    <tr style=\"text-align: right;\">\n",
       "      <th></th>\n",
       "      <th>air_speed</th>\n",
       "      <th>temperature</th>\n",
       "      <th>acid_concentration</th>\n",
       "    </tr>\n",
       "  </thead>\n",
       "  <tbody>\n",
       "    <tr>\n",
       "      <th>0</th>\n",
       "      <td>80.0</td>\n",
       "      <td>27.0</td>\n",
       "      <td>89.0</td>\n",
       "    </tr>\n",
       "    <tr>\n",
       "      <th>1</th>\n",
       "      <td>80.0</td>\n",
       "      <td>27.0</td>\n",
       "      <td>88.0</td>\n",
       "    </tr>\n",
       "    <tr>\n",
       "      <th>2</th>\n",
       "      <td>75.0</td>\n",
       "      <td>25.0</td>\n",
       "      <td>90.0</td>\n",
       "    </tr>\n",
       "    <tr>\n",
       "      <th>3</th>\n",
       "      <td>62.0</td>\n",
       "      <td>24.0</td>\n",
       "      <td>87.0</td>\n",
       "    </tr>\n",
       "    <tr>\n",
       "      <th>4</th>\n",
       "      <td>62.0</td>\n",
       "      <td>22.0</td>\n",
       "      <td>87.0</td>\n",
       "    </tr>\n",
       "    <tr>\n",
       "      <th>5</th>\n",
       "      <td>62.0</td>\n",
       "      <td>23.0</td>\n",
       "      <td>87.0</td>\n",
       "    </tr>\n",
       "    <tr>\n",
       "      <th>6</th>\n",
       "      <td>62.0</td>\n",
       "      <td>24.0</td>\n",
       "      <td>93.0</td>\n",
       "    </tr>\n",
       "    <tr>\n",
       "      <th>7</th>\n",
       "      <td>62.0</td>\n",
       "      <td>24.0</td>\n",
       "      <td>93.0</td>\n",
       "    </tr>\n",
       "    <tr>\n",
       "      <th>8</th>\n",
       "      <td>58.0</td>\n",
       "      <td>23.0</td>\n",
       "      <td>87.0</td>\n",
       "    </tr>\n",
       "    <tr>\n",
       "      <th>9</th>\n",
       "      <td>58.0</td>\n",
       "      <td>18.0</td>\n",
       "      <td>80.0</td>\n",
       "    </tr>\n",
       "    <tr>\n",
       "      <th>10</th>\n",
       "      <td>58.0</td>\n",
       "      <td>18.0</td>\n",
       "      <td>89.0</td>\n",
       "    </tr>\n",
       "    <tr>\n",
       "      <th>11</th>\n",
       "      <td>58.0</td>\n",
       "      <td>17.0</td>\n",
       "      <td>88.0</td>\n",
       "    </tr>\n",
       "    <tr>\n",
       "      <th>12</th>\n",
       "      <td>58.0</td>\n",
       "      <td>18.0</td>\n",
       "      <td>82.0</td>\n",
       "    </tr>\n",
       "    <tr>\n",
       "      <th>13</th>\n",
       "      <td>58.0</td>\n",
       "      <td>19.0</td>\n",
       "      <td>93.0</td>\n",
       "    </tr>\n",
       "    <tr>\n",
       "      <th>14</th>\n",
       "      <td>50.0</td>\n",
       "      <td>18.0</td>\n",
       "      <td>89.0</td>\n",
       "    </tr>\n",
       "    <tr>\n",
       "      <th>15</th>\n",
       "      <td>50.0</td>\n",
       "      <td>18.0</td>\n",
       "      <td>86.0</td>\n",
       "    </tr>\n",
       "    <tr>\n",
       "      <th>16</th>\n",
       "      <td>50.0</td>\n",
       "      <td>19.0</td>\n",
       "      <td>72.0</td>\n",
       "    </tr>\n",
       "    <tr>\n",
       "      <th>17</th>\n",
       "      <td>50.0</td>\n",
       "      <td>19.0</td>\n",
       "      <td>79.0</td>\n",
       "    </tr>\n",
       "    <tr>\n",
       "      <th>18</th>\n",
       "      <td>50.0</td>\n",
       "      <td>20.0</td>\n",
       "      <td>80.0</td>\n",
       "    </tr>\n",
       "    <tr>\n",
       "      <th>19</th>\n",
       "      <td>56.0</td>\n",
       "      <td>20.0</td>\n",
       "      <td>82.0</td>\n",
       "    </tr>\n",
       "    <tr>\n",
       "      <th>20</th>\n",
       "      <td>70.0</td>\n",
       "      <td>20.0</td>\n",
       "      <td>91.0</td>\n",
       "    </tr>\n",
       "  </tbody>\n",
       "</table>\n",
       "</div>"
      ],
      "text/plain": [
       "    air_speed  temperature  acid_concentration\n",
       "0        80.0         27.0                89.0\n",
       "1        80.0         27.0                88.0\n",
       "2        75.0         25.0                90.0\n",
       "3        62.0         24.0                87.0\n",
       "4        62.0         22.0                87.0\n",
       "5        62.0         23.0                87.0\n",
       "6        62.0         24.0                93.0\n",
       "7        62.0         24.0                93.0\n",
       "8        58.0         23.0                87.0\n",
       "9        58.0         18.0                80.0\n",
       "10       58.0         18.0                89.0\n",
       "11       58.0         17.0                88.0\n",
       "12       58.0         18.0                82.0\n",
       "13       58.0         19.0                93.0\n",
       "14       50.0         18.0                89.0\n",
       "15       50.0         18.0                86.0\n",
       "16       50.0         19.0                72.0\n",
       "17       50.0         19.0                79.0\n",
       "18       50.0         20.0                80.0\n",
       "19       56.0         20.0                82.0\n",
       "20       70.0         20.0                91.0"
      ]
     },
     "execution_count": 79,
     "metadata": {},
     "output_type": "execute_result"
    }
   ],
   "source": [
    "independent"
   ]
  },
  {
   "cell_type": "code",
   "execution_count": 80,
   "id": "f1a33e9e",
   "metadata": {
    "ExecuteTime": {
     "end_time": "2022-12-02T18:34:00.453424Z",
     "start_time": "2022-12-02T18:34:00.399738Z"
    }
   },
   "outputs": [
    {
     "name": "stdout",
     "output_type": "stream",
     "text": [
      "Intercept: \n",
      " -39.91967442012402\n",
      "Coefficients: \n",
      " [ 0.7156402   1.29528612 -0.15212252]\n",
      "                            OLS Regression Results                            \n",
      "==============================================================================\n",
      "Dep. Variable:        loss_of_ammonia   R-squared:                       0.914\n",
      "Model:                            OLS   Adj. R-squared:                  0.898\n",
      "Method:                 Least Squares   F-statistic:                     59.90\n",
      "Date:                Fri, 02 Dec 2022   Prob (F-statistic):           3.02e-09\n",
      "Time:                        21:34:00   Log-Likelihood:                -52.288\n",
      "No. Observations:                  21   AIC:                             112.6\n",
      "Df Residuals:                      17   BIC:                             116.8\n",
      "Df Model:                           3                                         \n",
      "Covariance Type:            nonrobust                                         \n",
      "======================================================================================\n",
      "                         coef    std err          t      P>|t|      [0.025      0.975]\n",
      "--------------------------------------------------------------------------------------\n",
      "const                -39.9197     11.896     -3.356      0.004     -65.018     -14.821\n",
      "air_speed              0.7156      0.135      5.307      0.000       0.431       1.000\n",
      "temperature            1.2953      0.368      3.520      0.003       0.519       2.072\n",
      "acid_concentration    -0.1521      0.156     -0.973      0.344      -0.482       0.178\n",
      "==============================================================================\n",
      "Omnibus:                        0.713   Durbin-Watson:                   1.485\n",
      "Prob(Omnibus):                  0.700   Jarque-Bera (JB):                0.140\n",
      "Skew:                          -0.193   Prob(JB):                        0.932\n",
      "Kurtosis:                       3.107   Cond. No.                     1.81e+03\n",
      "==============================================================================\n",
      "\n",
      "Notes:\n",
      "[1] Standard Errors assume that the covariance matrix of the errors is correctly specified.\n",
      "[2] The condition number is large, 1.81e+03. This might indicate that there are\n",
      "strong multicollinearity or other numerical problems.\n"
     ]
    }
   ],
   "source": [
    "regr = linear_model.LinearRegression()\n",
    "regr.fit(independent, dependent)\n",
    "\n",
    "print('Intercept: \\n', regr.intercept_)\n",
    "print('Coefficients: \\n', regr.coef_)\n",
    "\n",
    "# with statsmodels\n",
    "independent = sm.add_constant(independent) # adding a constant\n",
    " \n",
    "model = sm.OLS(dependent, independent).fit()\n",
    "predictions = model.predict(independent) \n",
    " \n",
    "print_model = model.summary()\n",
    "print(print_model)"
   ]
  },
  {
   "cell_type": "code",
   "execution_count": 81,
   "id": "375fc12a",
   "metadata": {
    "ExecuteTime": {
     "end_time": "2022-12-02T18:34:09.042635Z",
     "start_time": "2022-12-02T18:34:09.018192Z"
    }
   },
   "outputs": [
    {
     "data": {
      "text/plain": [
       "0.7156402004852842"
      ]
     },
     "execution_count": 81,
     "metadata": {},
     "output_type": "execute_result"
    }
   ],
   "source": [
    "model.params[1]"
   ]
  },
  {
   "cell_type": "code",
   "execution_count": 82,
   "id": "58df7ff2",
   "metadata": {
    "ExecuteTime": {
     "end_time": "2022-12-02T18:34:09.655211Z",
     "start_time": "2022-12-02T18:34:09.645073Z"
    }
   },
   "outputs": [
    {
     "data": {
      "text/plain": [
       "1.295286124388572"
      ]
     },
     "execution_count": 82,
     "metadata": {},
     "output_type": "execute_result"
    }
   ],
   "source": [
    "model.params[2]"
   ]
  },
  {
   "cell_type": "code",
   "execution_count": 83,
   "id": "3d736dfa",
   "metadata": {
    "ExecuteTime": {
     "end_time": "2022-12-02T18:34:10.389901Z",
     "start_time": "2022-12-02T18:34:10.381320Z"
    }
   },
   "outputs": [
    {
     "data": {
      "text/plain": [
       "-0.1521225191486514"
      ]
     },
     "execution_count": 83,
     "metadata": {},
     "output_type": "execute_result"
    }
   ],
   "source": [
    "model.params[3]"
   ]
  },
  {
   "cell_type": "code",
   "execution_count": 84,
   "id": "4102d917",
   "metadata": {
    "ExecuteTime": {
     "end_time": "2022-12-02T18:34:13.060362Z",
     "start_time": "2022-12-02T18:34:13.052035Z"
    }
   },
   "outputs": [],
   "source": [
    "dof = 17"
   ]
  },
  {
   "cell_type": "code",
   "execution_count": 85,
   "id": "db5e2f5d",
   "metadata": {
    "ExecuteTime": {
     "end_time": "2022-12-02T18:34:13.666596Z",
     "start_time": "2022-12-02T18:34:13.661015Z"
    }
   },
   "outputs": [],
   "source": [
    "from scipy import stats"
   ]
  },
  {
   "cell_type": "code",
   "execution_count": 86,
   "id": "d8526ee6",
   "metadata": {
    "ExecuteTime": {
     "end_time": "2022-12-02T18:34:14.210333Z",
     "start_time": "2022-12-02T18:34:14.197949Z"
    }
   },
   "outputs": [
    {
     "data": {
      "text/plain": [
       "2.109815577833181"
      ]
     },
     "execution_count": 86,
     "metadata": {},
     "output_type": "execute_result"
    }
   ],
   "source": [
    "stats.t.isf(0.025, dof)"
   ]
  },
  {
   "cell_type": "code",
   "execution_count": 88,
   "id": "f399fc39",
   "metadata": {
    "ExecuteTime": {
     "end_time": "2022-12-02T18:34:26.030946Z",
     "start_time": "2022-12-02T18:34:26.022244Z"
    }
   },
   "outputs": [
    {
     "data": {
      "text/plain": [
       "5.306613006837226"
      ]
     },
     "execution_count": 88,
     "metadata": {},
     "output_type": "execute_result"
    }
   ],
   "source": [
    "(model.params[1]-0)/model.bse[1]"
   ]
  },
  {
   "cell_type": "code",
   "execution_count": 89,
   "id": "00de39d2",
   "metadata": {
    "ExecuteTime": {
     "end_time": "2022-12-02T18:34:32.580102Z",
     "start_time": "2022-12-02T18:34:32.564238Z"
    }
   },
   "outputs": [
    {
     "data": {
      "text/plain": [
       "3.5195671769870214"
      ]
     },
     "execution_count": 89,
     "metadata": {},
     "output_type": "execute_result"
    }
   ],
   "source": [
    "(model.params[2]-0)/model.bse[2]"
   ]
  },
  {
   "cell_type": "code",
   "execution_count": 90,
   "id": "45159c22",
   "metadata": {
    "ExecuteTime": {
     "end_time": "2022-12-02T18:34:38.839785Z",
     "start_time": "2022-12-02T18:34:38.827418Z"
    }
   },
   "outputs": [
    {
     "data": {
      "text/plain": [
       "-0.9733097691168313"
      ]
     },
     "execution_count": 90,
     "metadata": {},
     "output_type": "execute_result"
    }
   ],
   "source": [
    "(model.params[3]-0)/model.bse[3]"
   ]
  },
  {
   "cell_type": "code",
   "execution_count": 91,
   "id": "a582eb4e",
   "metadata": {
    "ExecuteTime": {
     "end_time": "2022-12-02T18:34:39.863906Z",
     "start_time": "2022-12-02T18:34:39.855892Z"
    }
   },
   "outputs": [],
   "source": [
    "from mlxtend.feature_selection import SequentialFeatureSelector as sfs\n",
    "from sklearn.linear_model import LinearRegression"
   ]
  },
  {
   "cell_type": "code",
   "execution_count": 92,
   "id": "43a113dc",
   "metadata": {
    "ExecuteTime": {
     "end_time": "2022-12-02T18:34:40.733982Z",
     "start_time": "2022-12-02T18:34:40.726515Z"
    }
   },
   "outputs": [],
   "source": [
    "lreg = LinearRegression()\n",
    "sfs1 = sfs(lreg, k_features=2, forward=True, verbose=2, scoring='neg_mean_squared_error')"
   ]
  },
  {
   "cell_type": "code",
   "execution_count": 93,
   "id": "06a891dd",
   "metadata": {
    "ExecuteTime": {
     "end_time": "2022-12-02T18:34:41.327740Z",
     "start_time": "2022-12-02T18:34:41.283657Z"
    }
   },
   "outputs": [
    {
     "name": "stderr",
     "output_type": "stream",
     "text": [
      "[Parallel(n_jobs=1)]: Using backend SequentialBackend with 1 concurrent workers.\n",
      "[Parallel(n_jobs=1)]: Done   1 out of   1 | elapsed:    0.0s remaining:    0.0s\n",
      "[Parallel(n_jobs=1)]: Done   4 out of   4 | elapsed:    0.0s finished\n",
      "\n",
      "[2022-12-02 21:34:41] Features: 1/2 -- score: -40.25366163125594[Parallel(n_jobs=1)]: Using backend SequentialBackend with 1 concurrent workers.\n",
      "[Parallel(n_jobs=1)]: Done   1 out of   1 | elapsed:    0.0s remaining:    0.0s\n",
      "[Parallel(n_jobs=1)]: Done   3 out of   3 | elapsed:    0.0s finished\n",
      "\n",
      "[2022-12-02 21:34:41] Features: 2/2 -- score: -34.47939669298703"
     ]
    }
   ],
   "source": [
    "sfs1 = sfs1.fit(independent, dependent)"
   ]
  },
  {
   "cell_type": "code",
   "execution_count": 94,
   "id": "9574bfb4",
   "metadata": {
    "ExecuteTime": {
     "end_time": "2022-12-02T18:34:41.857251Z",
     "start_time": "2022-12-02T18:34:41.850313Z"
    }
   },
   "outputs": [
    {
     "name": "stdout",
     "output_type": "stream",
     "text": [
      "['air_speed', 'temperature']\n"
     ]
    }
   ],
   "source": [
    "feat_names = list(sfs1.k_feature_names_)\n",
    "print(feat_names)"
   ]
  },
  {
   "cell_type": "code",
   "execution_count": 95,
   "id": "11b80901",
   "metadata": {
    "ExecuteTime": {
     "end_time": "2022-12-02T18:34:43.640049Z",
     "start_time": "2022-12-02T18:34:43.628697Z"
    }
   },
   "outputs": [],
   "source": [
    "X = independent[['air_speed', 'temperature']]"
   ]
  },
  {
   "cell_type": "code",
   "execution_count": 96,
   "id": "2321ef27",
   "metadata": {
    "ExecuteTime": {
     "end_time": "2022-12-02T18:34:44.683995Z",
     "start_time": "2022-12-02T18:34:44.675548Z"
    }
   },
   "outputs": [],
   "source": [
    "y = dependent"
   ]
  },
  {
   "cell_type": "code",
   "execution_count": 97,
   "id": "aecb5e35",
   "metadata": {
    "ExecuteTime": {
     "end_time": "2022-12-02T18:34:45.454303Z",
     "start_time": "2022-12-02T18:34:45.432295Z"
    }
   },
   "outputs": [
    {
     "name": "stdout",
     "output_type": "stream",
     "text": [
      "Intercept: \n",
      " -50.35884007399061\n",
      "Coefficients: \n",
      " [0.67115444 1.29535137]\n"
     ]
    }
   ],
   "source": [
    "regr = linear_model.LinearRegression()\n",
    "regr.fit(X,y)\n",
    "\n",
    "print('Intercept: \\n', regr.intercept_)\n",
    "print('Coefficients: \\n', regr.coef_)\n",
    "\n",
    "# with statsmodels\n",
    "independent = sm.add_constant(X) # adding a constant\n",
    " \n",
    "model = sm.OLS(y, X).fit()\n",
    "predictions = model.predict(X) "
   ]
  },
  {
   "cell_type": "code",
   "execution_count": 98,
   "id": "a743cf2f",
   "metadata": {
    "ExecuteTime": {
     "end_time": "2022-12-02T18:34:46.156835Z",
     "start_time": "2022-12-02T18:34:46.148825Z"
    }
   },
   "outputs": [
    {
     "name": "stdout",
     "output_type": "stream",
     "text": [
      "0     17.592452\n",
      "1     12.592452\n",
      "2     14.135784\n",
      "3      8.908410\n",
      "4     -0.977287\n",
      "5     -1.034439\n",
      "6     -0.091590\n",
      "7      0.908410\n",
      "8     -2.891216\n",
      "9     -3.605458\n",
      "10    -3.605458\n",
      "11    -4.548307\n",
      "12    -6.605458\n",
      "13    -5.662610\n",
      "14    -7.319013\n",
      "15    -8.319013\n",
      "16    -7.376164\n",
      "17    -7.376164\n",
      "18    -6.433316\n",
      "19    -2.148150\n",
      "20    -6.149430\n",
      "dtype: float64\n"
     ]
    }
   ],
   "source": [
    "residuals = model.resid\n",
    "print(residuals)"
   ]
  },
  {
   "cell_type": "code",
   "execution_count": 99,
   "id": "f64693b2",
   "metadata": {
    "ExecuteTime": {
     "end_time": "2022-12-02T18:34:46.950873Z",
     "start_time": "2022-12-02T18:34:46.945300Z"
    }
   },
   "outputs": [],
   "source": [
    "import matplotlib.pyplot as plt\n",
    "from statsmodels.formula.api import ols"
   ]
  },
  {
   "cell_type": "code",
   "execution_count": 100,
   "id": "25733612",
   "metadata": {
    "ExecuteTime": {
     "end_time": "2022-12-02T18:34:47.448827Z",
     "start_time": "2022-12-02T18:34:47.426070Z"
    }
   },
   "outputs": [],
   "source": [
    "multi_model = ols('loss_of_ammonia ~ air_speed + temperature', data=df).fit()"
   ]
  },
  {
   "cell_type": "code",
   "execution_count": 101,
   "id": "78a8cd5e",
   "metadata": {
    "ExecuteTime": {
     "end_time": "2022-12-02T18:34:47.725256Z",
     "start_time": "2022-12-02T18:34:47.700766Z"
    }
   },
   "outputs": [
    {
     "name": "stdout",
     "output_type": "stream",
     "text": [
      "                            OLS Regression Results                            \n",
      "==============================================================================\n",
      "Dep. Variable:        loss_of_ammonia   R-squared:                       0.909\n",
      "Model:                            OLS   Adj. R-squared:                  0.899\n",
      "Method:                 Least Squares   F-statistic:                     89.64\n",
      "Date:                Fri, 02 Dec 2022   Prob (F-statistic):           4.38e-10\n",
      "Time:                        21:34:47   Log-Likelihood:                -52.857\n",
      "No. Observations:                  21   AIC:                             111.7\n",
      "Df Residuals:                      18   BIC:                             114.8\n",
      "Df Model:                           2                                         \n",
      "Covariance Type:            nonrobust                                         \n",
      "===============================================================================\n",
      "                  coef    std err          t      P>|t|      [0.025      0.975]\n",
      "-------------------------------------------------------------------------------\n",
      "Intercept     -50.3588      5.138     -9.801      0.000     -61.154     -39.564\n",
      "air_speed       0.6712      0.127      5.298      0.000       0.405       0.937\n",
      "temperature     1.2954      0.367      3.525      0.002       0.523       2.067\n",
      "==============================================================================\n",
      "Omnibus:                        1.120   Durbin-Watson:                   1.386\n",
      "Prob(Omnibus):                  0.571   Jarque-Bera (JB):                0.372\n",
      "Skew:                          -0.316   Prob(JB):                        0.830\n",
      "Kurtosis:                       3.159   Cond. No.                         470.\n",
      "==============================================================================\n",
      "\n",
      "Notes:\n",
      "[1] Standard Errors assume that the covariance matrix of the errors is correctly specified.\n"
     ]
    }
   ],
   "source": [
    "print(multi_model.summary())"
   ]
  },
  {
   "cell_type": "code",
   "execution_count": 102,
   "id": "ddeb2a2f",
   "metadata": {
    "ExecuteTime": {
     "end_time": "2022-12-02T18:34:48.739551Z",
     "start_time": "2022-12-02T18:34:48.434250Z"
    }
   },
   "outputs": [
    {
     "name": "stdout",
     "output_type": "stream",
     "text": [
      "eval_env: 1\n"
     ]
    },
    {
     "data": {
      "image/png": "[encoded data removed]",
      "text/plain": [
       "<Figure size 1008x576 with 4 Axes>"
      ]
     },
     "metadata": {
      "needs_background": "light"
     },
     "output_type": "display_data"
    }
   ],
   "source": [
    "fig = plt.figure(figsize=(14, 8))\n",
    "  \n",
    "# creating regression plots\n",
    "fig = sm.graphics.plot_regress_exog(multi_model, 'air_speed', fig=fig)"
   ]
  },
  {
   "cell_type": "code",
   "execution_count": 103,
   "id": "aa2b8759",
   "metadata": {
    "ExecuteTime": {
     "end_time": "2022-12-02T18:34:49.145034Z",
     "start_time": "2022-12-02T18:34:48.906438Z"
    }
   },
   "outputs": [
    {
     "name": "stdout",
     "output_type": "stream",
     "text": [
      "eval_env: 1\n"
     ]
    },
    {
     "data": {
      "image/png": "[encoded data removed]",
      "text/plain": [
       "<Figure size 1008x576 with 4 Axes>"
      ]
     },
     "metadata": {
      "needs_background": "light"
     },
     "output_type": "display_data"
    }
   ],
   "source": [
    "fig = plt.figure(figsize=(14, 8))\n",
    "  \n",
    "# creating regression plots\n",
    "fig = sm.graphics.plot_regress_exog(multi_model, 'temperature', fig=fig)"
   ]
  },
  {
   "cell_type": "code",
   "execution_count": 104,
   "id": "85330a7f",
   "metadata": {
    "ExecuteTime": {
     "end_time": "2022-12-02T18:34:49.813701Z",
     "start_time": "2022-12-02T18:34:49.806895Z"
    }
   },
   "outputs": [],
   "source": [
    "y = df.loss_of_ammonia"
   ]
  },
  {
   "cell_type": "code",
   "execution_count": 105,
   "id": "ff9bfffb",
   "metadata": {
    "ExecuteTime": {
     "end_time": "2022-12-02T18:34:50.427931Z",
     "start_time": "2022-12-02T18:34:50.418949Z"
    }
   },
   "outputs": [],
   "source": [
    "X = df.drop(columns = ['loss_of_ammonia','acid_concentration'])"
   ]
  },
  {
   "cell_type": "markdown",
   "id": "d20c7f0f",
   "metadata": {},
   "source": [
    "## We used the original data, using the fourth day's data as the independent variable to predict the dependent variable."
   ]
  },
  {
   "cell_type": "code",
   "execution_count": 106,
   "id": "ae6d68d0",
   "metadata": {
    "ExecuteTime": {
     "end_time": "2022-12-02T18:34:51.291365Z",
     "start_time": "2022-12-02T18:34:51.285588Z"
    }
   },
   "outputs": [],
   "source": [
    "X = sm.add_constant(X) # adding a constant\n",
    " \n",
    "model = sm.OLS(y, X).fit()\n",
    "X4 = X.iloc[3]\n",
    "predictions = model.predict(X4) "
   ]
  },
  {
   "cell_type": "code",
   "execution_count": 107,
   "id": "1177f659",
   "metadata": {
    "ExecuteTime": {
     "end_time": "2022-12-02T18:34:51.766052Z",
     "start_time": "2022-12-02T18:34:51.756305Z"
    }
   },
   "outputs": [
    {
     "data": {
      "text/plain": [
       "None    22.341168\n",
       "dtype: float64"
      ]
     },
     "execution_count": 107,
     "metadata": {},
     "output_type": "execute_result"
    }
   ],
   "source": [
    "predictions"
   ]
  },
  {
   "cell_type": "markdown",
   "id": "75089d80",
   "metadata": {},
   "source": [
    "**The predicted value of loss_of_ammonia is 19.750465**"
   ]
  },
  {
   "cell_type": "code",
   "execution_count": null,
   "id": "0655884d",
   "metadata": {},
   "outputs": [],
   "source": []
  }
 ],
 "metadata": {
  "kernelspec": {
   "display_name": "Python [conda env:tensorflow] *",
   "language": "python",
   "name": "conda-env-tensorflow-py"
  },
  "language_info": {
   "codemirror_mode": {
    "name": "ipython",
    "version": 3
   },
   "file_extension": ".py",
   "mimetype": "text/x-python",
   "name": "python",
   "nbconvert_exporter": "python",
   "pygments_lexer": "ipython3",
   "version": "3.8.13"
  },
  "varInspector": {
   "cols": {
    "lenName": 16,
    "lenType": 16,
    "lenVar": 40
   },
   "kernels_config": {
    "python": {
     "delete_cmd_postfix": "",
     "delete_cmd_prefix": "del ",
     "library": "var_list.py",
     "varRefreshCmd": "print(var_dic_list())"
    },
    "r": {
     "delete_cmd_postfix": ") ",
     "delete_cmd_prefix": "rm(",
     "library": "var_list.r",
     "varRefreshCmd": "cat(var_dic_list()) "
    }
   },
   "types_to_exclude": [
    "module",
    "function",
    "builtin_function_or_method",
    "instance",
    "_Feature"
   ],
   "window_display": false
  }
 },
 "nbformat": 4,
 "nbformat_minor": 5
}
